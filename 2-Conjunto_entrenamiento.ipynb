{
 "cells": [
  {
   "cell_type": "markdown",
   "metadata": {},
   "source": [
    "### En este notebook crearemos el conjunto de entrenamiento y entrenaremos el modelo"
   ]
  },
  {
   "cell_type": "code",
   "execution_count": 1,
   "metadata": {},
   "outputs": [],
   "source": [
    "import json\n",
    "from glob import glob\n",
    "import random\n",
    "import spacy\n",
    "from spacy.lang.es import Spanish\n",
    "from spacy.pipeline import EntityRuler\n",
    "from spacy.matcher import PhraseMatcher\n",
    "from spacy.tokens import Span\n",
    "from spacy import displacy\n",
    "from spacy.util import minibatch, compounding\n",
    "import datetime as dt"
   ]
  },
  {
   "cell_type": "markdown",
   "metadata": {},
   "source": [
    "Bajamos el modelo general para español de tamaño medio.\n",
    "Deshabilitamos el NER a ese modelo y añadimos para ese cometido nuestras reglas creadas anteriormente."
   ]
  },
  {
   "cell_type": "code",
   "execution_count": 2,
   "metadata": {},
   "outputs": [],
   "source": [
    "# python -m spacy download es_core_news_md (con esto nos bajamos el modelo)\n",
    "with open(\"./data/antecedentes_patterns_CIE10.jsonl\", encoding=\"utf8\") as f:\n",
    "    patterns = json.loads(f.read())\n",
    "    \n",
    "nlp = spacy.load(\"es_core_news_md\", disable=[\"ner\"]) \n",
    "ruler = EntityRuler(nlp, overwrite_ents=True, validate=True)\n",
    "ruler.add_patterns(patterns)\n",
    "nlp.add_pipe(ruler)"
   ]
  },
  {
   "cell_type": "markdown",
   "metadata": {},
   "source": [
    "Comprobamos los componentes de nuestro pipe"
   ]
  },
  {
   "cell_type": "code",
   "execution_count": 3,
   "metadata": {},
   "outputs": [
    {
     "data": {
      "text/plain": [
       "['tagger', 'parser', 'entity_ruler']"
      ]
     },
     "execution_count": 3,
     "metadata": {},
     "output_type": "execute_result"
    }
   ],
   "source": [
    "nlp.pipe_names"
   ]
  },
  {
   "cell_type": "markdown",
   "metadata": {},
   "source": [
    "Funciones para cargar y salvar modelos"
   ]
  },
  {
   "cell_type": "code",
   "execution_count": 4,
   "metadata": {},
   "outputs": [],
   "source": [
    "def load_data(file):\n",
    "    with open(file, \"r\", encoding=\"utf-8\") as f:\n",
    "        data = json.load(f)\n",
    "    return (data)\n",
    "\n",
    "def save_data(file, data):\n",
    "    with open (file, \"w\", encoding=\"utf-8\") as f:\n",
    "        json.dump(data, f, indent=1)\n"
   ]
  },
  {
   "cell_type": "markdown",
   "metadata": {},
   "source": [
    "Función para crear conjunto de entrenamiento.\n",
    "\n",
    "El formato de los datos de entremamiento debe ser así: **TRAIN_DATA = [(text, {\"entities\": [(start, end, label)]})]**"
   ]
  },
  {
   "cell_type": "code",
   "execution_count": 5,
   "metadata": {},
   "outputs": [],
   "source": [
    "def create_train(model, text):\n",
    "    doc = nlp(text)\n",
    "    results = []\n",
    "    entities = []\n",
    "    for ent in doc.ents:\n",
    "        entities.append((ent.start_char, ent.end_char, ent.label_))\n",
    "    if len(entities) > 0:\n",
    "        results = [text, {\"entities\": entities}]\n",
    "        return (results)"
   ]
  },
  {
   "cell_type": "markdown",
   "metadata": {},
   "source": [
    "Vamos a crear el set de entrenamiento utilizando el dataset de train"
   ]
  },
  {
   "cell_type": "code",
   "execution_count": 6,
   "metadata": {},
   "outputs": [],
   "source": [
    "files = glob(\"./data/train/text_files/*.txt\")\n",
    "             \n",
    "with open(\"./data/train/allfiles.txt\", \"w\", encoding=\"utf-8\" ) as result:\n",
    "    for file in files:\n",
    "        for line in open( file, \"r\", encoding=\"utf-8\" ):\n",
    "            result.write( line )"
   ]
  },
  {
   "cell_type": "markdown",
   "metadata": {},
   "source": [
    "Creamos el conjunto de entrenamiento y lo guardamos en un archivo"
   ]
  },
  {
   "cell_type": "code",
   "execution_count": 7,
   "metadata": {},
   "outputs": [],
   "source": [
    "TRAIN_DATA = []\n",
    "with open (\"./data/train/allfiles.txt\", \"r\", encoding=\"utf8\") as f:\n",
    "    text_to_train = f.read()\n",
    "    #print (text)\n",
    "    segments = text_to_train.split(\"\\n\")\n",
    "    for segment in segments:\n",
    "        results = create_train(nlp, segment)\n",
    "        if results != None:\n",
    "            TRAIN_DATA.append(results)\n",
    "\n",
    "save_data(\"./data/antecedentes_training_data.jsonl\", TRAIN_DATA)"
   ]
  },
  {
   "cell_type": "markdown",
   "metadata": {},
   "source": [
    "Vemos los antecedentes entrenados"
   ]
  },
  {
   "cell_type": "code",
   "execution_count": 8,
   "metadata": {},
   "outputs": [
    {
     "name": "stdout",
     "output_type": "stream",
     "text": [
      "Número de antecedente en datos de entrenamiento: 644\n",
      "\n"
     ]
    }
   ],
   "source": [
    "print (f\"Número de antecedente en datos de entrenamiento: {len(TRAIN_DATA)}\\n\")\n",
    "\n",
    "for text, _ in TRAIN_DATA:\n",
    "    doc = nlp(text)\n",
    "    #print('Antecedente entrenado', [(ent.text) for ent in doc.ents])"
   ]
  },
  {
   "cell_type": "markdown",
   "metadata": {},
   "source": [
    "Función para entrenar el modelo"
   ]
  },
  {
   "cell_type": "code",
   "execution_count": 9,
   "metadata": {},
   "outputs": [],
   "source": [
    "def train_model(data, iterations):\n",
    "    TRAIN_DATA = data\n",
    "    \n",
    "    # Creamos un modelo de spacy vacio\n",
    "    #nlp = spacy.blank(\"en\") \n",
    "    #nlp = Spanish()\n",
    "    \n",
    "    # Añadimos la componente ner a la pipeline sino no está\n",
    "    if \"ner\" not in nlp.pipe_names:\n",
    "        ner = nlp.create_pipe(\"ner\")\n",
    "        nlp.add_pipe(ner, last=True)\n",
    "    \n",
    "    # Añadimos todas las antecedentes del conjunto de entrenamiento al modelo\n",
    "    for _, annotations in TRAIN_DATA:\n",
    "        for ent in annotations.get(\"entities\"):\n",
    "            ner.add_label(ent[2])\n",
    "            \n",
    "    # Eliminamos el efecto del training en otros pipes \n",
    "    other_pipes = [pipe for pipe in nlp.pipe_names if pipe != \"ner\"]\n",
    "    \n",
    "    # Empezamos a entrenar\n",
    "    with nlp.disable_pipes(*other_pipes):\n",
    "        optimizer = nlp.begin_training()\n",
    "        for itn in range(iterations):\n",
    "            #print (\"Starting iteration \" + str(itn))\n",
    "            # Mezcla los datos de entrenamiento\n",
    "            random.shuffle(TRAIN_DATA)\n",
    "            losses = {}\n",
    "            # Crea lotes con los ejemplos e itera sobre ellos\n",
    "            batches = minibatch(TRAIN_DATA, size=compounding(4.0, 32.0, 1.001))\n",
    "            for batch in batches:\n",
    "                texts, annotations = zip(*batch)\n",
    "                # Actualiza el modelo\n",
    "                nlp.update(\n",
    "                    texts,  \n",
    "                    annotations,  \n",
    "                    drop=0.1,  # dropout - hace mas dificil que se momoricen los datos de entrenamiento para evitar el sobrenetrenamiento\n",
    "                    losses=losses,\n",
    "                )\n",
    "            #print (losses)\n",
    "            print(f\"Losses at iteration {itn} - {dt.datetime.now()} {losses}\")\n",
    "    return (nlp)"
   ]
  },
  {
   "cell_type": "markdown",
   "metadata": {},
   "source": [
    "Cargamos los datos de entrenamiento, entrenamos el modelo en 30 iteraciones y lo guardamos "
   ]
  },
  {
   "cell_type": "code",
   "execution_count": 10,
   "metadata": {},
   "outputs": [
    {
     "name": "stdout",
     "output_type": "stream",
     "text": [
      "Losses at iteration 0 - 2021-07-15 14:27:28.511528 {'ner': 4831.141551545451}\n",
      "Losses at iteration 1 - 2021-07-15 14:27:50.371501 {'ner': 1673.7956220201688}\n",
      "Losses at iteration 2 - 2021-07-15 14:28:12.020400 {'ner': 1903.1977685644104}\n",
      "Losses at iteration 3 - 2021-07-15 14:28:33.618714 {'ner': 1864.8738198465787}\n",
      "Losses at iteration 4 - 2021-07-15 14:28:54.984361 {'ner': 917.7131908770169}\n",
      "Losses at iteration 5 - 2021-07-15 14:29:16.926273 {'ner': 1095.4789427200953}\n",
      "Losses at iteration 6 - 2021-07-15 14:29:38.445356 {'ner': 914.4035253696131}\n",
      "Losses at iteration 7 - 2021-07-15 14:29:59.735336 {'ner': 525.0726797397605}\n",
      "Losses at iteration 8 - 2021-07-15 14:30:21.843280 {'ner': 534.1464740445881}\n",
      "Losses at iteration 9 - 2021-07-15 14:30:44.144245 {'ner': 467.09535934823157}\n",
      "Losses at iteration 10 - 2021-07-15 14:31:06.939131 {'ner': 480.09305212971094}\n",
      "Losses at iteration 11 - 2021-07-15 14:31:30.289077 {'ner': 379.7916839289244}\n",
      "Losses at iteration 12 - 2021-07-15 14:31:53.347366 {'ner': 451.69223310061847}\n",
      "Losses at iteration 13 - 2021-07-15 14:32:16.680096 {'ner': 435.59315060272354}\n",
      "Losses at iteration 14 - 2021-07-15 14:32:40.257037 {'ner': 395.2325329226159}\n",
      "Losses at iteration 15 - 2021-07-15 14:33:05.006811 {'ner': 410.35329548201804}\n",
      "Losses at iteration 16 - 2021-07-15 14:33:29.892982 {'ner': 202.79209818095086}\n",
      "Losses at iteration 17 - 2021-07-15 14:33:55.390957 {'ner': 247.4973688424014}\n",
      "Losses at iteration 18 - 2021-07-15 14:34:20.542913 {'ner': 199.5281212064486}\n",
      "Losses at iteration 19 - 2021-07-15 14:34:45.463290 {'ner': 223.46793036364352}\n",
      "Losses at iteration 20 - 2021-07-15 14:35:11.098887 {'ner': 259.8019900976553}\n",
      "Losses at iteration 21 - 2021-07-15 14:35:36.111817 {'ner': 117.95170151938048}\n",
      "Losses at iteration 22 - 2021-07-15 14:36:01.419116 {'ner': 86.68921172438137}\n",
      "Losses at iteration 23 - 2021-07-15 14:36:26.433730 {'ner': 126.80251053664178}\n",
      "Losses at iteration 24 - 2021-07-15 14:36:51.262711 {'ner': 87.8445743771295}\n",
      "Losses at iteration 25 - 2021-07-15 14:37:16.075716 {'ner': 99.83506377447499}\n",
      "Losses at iteration 26 - 2021-07-15 14:37:40.862645 {'ner': 93.22441509643642}\n",
      "Losses at iteration 27 - 2021-07-15 14:38:05.823595 {'ner': 181.09378634789687}\n",
      "Losses at iteration 28 - 2021-07-15 14:38:30.454537 {'ner': 115.74806732787668}\n",
      "Losses at iteration 29 - 2021-07-15 14:38:55.840510 {'ner': 71.26426487834834}\n"
     ]
    }
   ],
   "source": [
    "TRAIN_DATA = load_data(\"./data/antecedentes_training_data.jsonl\")\n",
    "nlp = train_model(TRAIN_DATA, 30)\n",
    "nlp.to_disk(\"./models/model_antecedentes_ner_es_md\")"
   ]
  },
  {
   "cell_type": "code",
   "execution_count": 11,
   "metadata": {},
   "outputs": [
    {
     "data": {
      "text/plain": [
       "['tagger', 'parser', 'entity_ruler', 'ner']"
      ]
     },
     "execution_count": 11,
     "metadata": {},
     "output_type": "execute_result"
    }
   ],
   "source": [
    "nlp.pipe_names"
   ]
  }
 ],
 "metadata": {
  "kernelspec": {
   "display_name": "Python 3",
   "language": "python",
   "name": "python3"
  },
  "language_info": {
   "codemirror_mode": {
    "name": "ipython",
    "version": 3
   },
   "file_extension": ".py",
   "mimetype": "text/x-python",
   "name": "python",
   "nbconvert_exporter": "python",
   "pygments_lexer": "ipython3",
   "version": "3.7.6"
  }
 },
 "nbformat": 4,
 "nbformat_minor": 4
}
