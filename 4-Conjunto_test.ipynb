{
 "cells": [
  {
   "cell_type": "markdown",
   "metadata": {},
   "source": [
    "### En este notebook comparararemos los antecedentes del comjunto de test que han sido anotados por humanos con los que identifique el modelo que hemos creado"
   ]
  },
  {
   "cell_type": "code",
   "execution_count": 1,
   "metadata": {},
   "outputs": [],
   "source": [
    "import json\n",
    "from glob import glob\n",
    "import spacy\n",
    "import pandas as pd\n",
    "from spacy.lang.es import Spanish\n",
    "from spacy.matcher import PhraseMatcher\n",
    "from spacy.tokens import Span\n",
    "from spacy import displacy\n",
    "from medspacy.target_matcher import TargetMatcher, TargetRule"
   ]
  },
  {
   "cell_type": "code",
   "execution_count": 2,
   "metadata": {},
   "outputs": [],
   "source": [
    "import warnings\n",
    "warnings.filterwarnings(\"ignore\", category=DeprecationWarning)\n",
    "warnings.filterwarnings(\"ignore\", category=ResourceWarning)"
   ]
  },
  {
   "cell_type": "markdown",
   "metadata": {},
   "source": [
    "Cargamos el modelo entrenado"
   ]
  },
  {
   "cell_type": "code",
   "execution_count": 3,
   "metadata": {},
   "outputs": [],
   "source": [
    "nlp = spacy.load(\"./models/model_antecedentes_ner_es_md\")"
   ]
  },
  {
   "cell_type": "markdown",
   "metadata": {},
   "source": [
    "Añadimos al modelo el componente que añade los códigos CEI10 a los antecedentes que encuentre"
   ]
  },
  {
   "cell_type": "code",
   "execution_count": 4,
   "metadata": {},
   "outputs": [
    {
     "data": {
      "text/plain": [
       "['tagger', 'parser', 'entity_ruler', 'ner', 'target_matcher']"
      ]
     },
     "execution_count": 4,
     "metadata": {},
     "output_type": "execute_result"
    }
   ],
   "source": [
    "target_matcher = TargetMatcher(nlp)\n",
    "Span.set_extension(\"CIE10\", default=\"\", force=True)\n",
    "rules = TargetRule.from_json(\"./data/cie10_rules_mspacy.jsonl\")\n",
    "target_matcher.add(rules)\n",
    "nlp.add_pipe(target_matcher)\n",
    "nlp.pipe_names"
   ]
  },
  {
   "cell_type": "markdown",
   "metadata": {},
   "source": [
    "Aplicamos el modelo a los archivos del conjunto de test"
   ]
  },
  {
   "cell_type": "code",
   "execution_count": 5,
   "metadata": {},
   "outputs": [],
   "source": [
    "# directorio dónde están cada uno de los txt que contienen un informe para testear el modelo\n",
    "read_files = glob(\"./data/test/text_files/*.txt\") \n",
    "\n",
    "# generamos un archivo json que contine el nombre de cada archivo con los antedentes y sus códigos encontrados por el modelo\n",
    "with open(\"data/antecedentes_test.jsonl\", \"w\", encoding=\"utf-8\" ) as outfile: \n",
    "    archivo_antec=[]\n",
    "    for f in read_files:\n",
    "        with open(f, \"r\", encoding=\"utf-8\") as infile:\n",
    "            nombre_archivo = f\n",
    "            nombre_archivo = nombre_archivo.replace(\"./data/test/text_files\\\\\", \"\")\n",
    "            nombre_archivo = nombre_archivo.replace(\".txt\", \"\")\n",
    "            text = infile.read()\n",
    "            nuevo_informe = nlp(text)\n",
    "            ante_encontrados = nombre_archivo, [[ent._.CIE10, ent.text] for ent in nuevo_informe.ents]\n",
    "            archivo_antec.append(ante_encontrados)\n",
    "            json.dump(ante_encontrados, outfile, indent=1)"
   ]
  },
  {
   "cell_type": "markdown",
   "metadata": {},
   "source": [
    "Generamos una lista que contenga el nombre de archivo, código y antecedente por cada antecedente encontrado. Con esto lo hacemos para coincidir con el formato de los antecedentes anotados"
   ]
  },
  {
   "cell_type": "code",
   "execution_count": 6,
   "metadata": {},
   "outputs": [],
   "source": [
    "antec_encontrados = [[archivo, *antec] for archivo, lista in archivo_antec for antec in lista]"
   ]
  },
  {
   "cell_type": "markdown",
   "metadata": {},
   "source": [
    "Creamos un dataset a partir de los resultados de antecedentes y códigos que ha encontrado nuestro modelo "
   ]
  },
  {
   "cell_type": "code",
   "execution_count": 7,
   "metadata": {},
   "outputs": [
    {
     "data": {
      "text/html": [
       "<div>\n",
       "<style scoped>\n",
       "    .dataframe tbody tr th:only-of-type {\n",
       "        vertical-align: middle;\n",
       "    }\n",
       "\n",
       "    .dataframe tbody tr th {\n",
       "        vertical-align: top;\n",
       "    }\n",
       "\n",
       "    .dataframe thead th {\n",
       "        text-align: right;\n",
       "    }\n",
       "</style>\n",
       "<table border=\"1\" class=\"dataframe\">\n",
       "  <thead>\n",
       "    <tr style=\"text-align: right;\">\n",
       "      <th></th>\n",
       "      <th>Archivo</th>\n",
       "      <th>CEI10</th>\n",
       "      <th>Antecedente</th>\n",
       "    </tr>\n",
       "  </thead>\n",
       "  <tbody>\n",
       "    <tr>\n",
       "      <th>0</th>\n",
       "      <td>S0004-06142005000500011-1</td>\n",
       "      <td>E11.9</td>\n",
       "      <td>Diabetes Mellitus tipo II</td>\n",
       "    </tr>\n",
       "    <tr>\n",
       "      <th>1</th>\n",
       "      <td>S0004-06142005000500011-1</td>\n",
       "      <td>F10.20</td>\n",
       "      <td>enolismo</td>\n",
       "    </tr>\n",
       "    <tr>\n",
       "      <th>2</th>\n",
       "      <td>S0004-06142005000500011-1</td>\n",
       "      <td>F17.210</td>\n",
       "      <td>fumador</td>\n",
       "    </tr>\n",
       "    <tr>\n",
       "      <th>3</th>\n",
       "      <td>S0004-06142005000500011-1</td>\n",
       "      <td>F17.210</td>\n",
       "      <td>cigarrillos</td>\n",
       "    </tr>\n",
       "    <tr>\n",
       "      <th>4</th>\n",
       "      <td>S0004-06142005000500011-1</td>\n",
       "      <td>C07</td>\n",
       "      <td>carcinoma</td>\n",
       "    </tr>\n",
       "    <tr>\n",
       "      <th>...</th>\n",
       "      <td>...</td>\n",
       "      <td>...</td>\n",
       "      <td>...</td>\n",
       "    </tr>\n",
       "    <tr>\n",
       "      <th>591</th>\n",
       "      <td>S2254-28842014000300010-1</td>\n",
       "      <td>I25.9</td>\n",
       "      <td>cardiopatía isquémica</td>\n",
       "    </tr>\n",
       "    <tr>\n",
       "      <th>592</th>\n",
       "      <td>S2254-28842014000300010-1</td>\n",
       "      <td>I21.3</td>\n",
       "      <td>infarto agudo de miocardio</td>\n",
       "    </tr>\n",
       "    <tr>\n",
       "      <th>593</th>\n",
       "      <td>S2254-28842014000300010-1</td>\n",
       "      <td></td>\n",
       "      <td>inferior</td>\n",
       "    </tr>\n",
       "    <tr>\n",
       "      <th>594</th>\n",
       "      <td>S2254-28842014000300010-1</td>\n",
       "      <td>N18.9</td>\n",
       "      <td>Insuficiencia renal crónica</td>\n",
       "    </tr>\n",
       "    <tr>\n",
       "      <th>595</th>\n",
       "      <td>S2254-28842014000300010-1</td>\n",
       "      <td>I12.9</td>\n",
       "      <td>nefroangiosclerosis</td>\n",
       "    </tr>\n",
       "  </tbody>\n",
       "</table>\n",
       "<p>596 rows × 3 columns</p>\n",
       "</div>"
      ],
      "text/plain": [
       "                       Archivo    CEI10                  Antecedente\n",
       "0    S0004-06142005000500011-1    E11.9    Diabetes Mellitus tipo II\n",
       "1    S0004-06142005000500011-1   F10.20                     enolismo\n",
       "2    S0004-06142005000500011-1  F17.210                      fumador\n",
       "3    S0004-06142005000500011-1  F17.210                  cigarrillos\n",
       "4    S0004-06142005000500011-1      C07                    carcinoma\n",
       "..                         ...      ...                          ...\n",
       "591  S2254-28842014000300010-1    I25.9        cardiopatía isquémica\n",
       "592  S2254-28842014000300010-1    I21.3   infarto agudo de miocardio\n",
       "593  S2254-28842014000300010-1                              inferior\n",
       "594  S2254-28842014000300010-1    N18.9  Insuficiencia renal crónica\n",
       "595  S2254-28842014000300010-1    I12.9          nefroangiosclerosis\n",
       "\n",
       "[596 rows x 3 columns]"
      ]
     },
     "execution_count": 7,
     "metadata": {},
     "output_type": "execute_result"
    }
   ],
   "source": [
    "df = pd.DataFrame(antec_encontrados)\n",
    "df.columns = [\"Archivo\", \"CEI10\", \"Antecedente\"]\n",
    "df"
   ]
  },
  {
   "cell_type": "code",
   "execution_count": 8,
   "metadata": {},
   "outputs": [],
   "source": [
    "# lo guardamos en un archivo excel\n",
    "df.to_excel('data/test/Codigos_Test_Encontrados_Con_Antecedente.xlsx')"
   ]
  },
  {
   "cell_type": "code",
   "execution_count": 9,
   "metadata": {},
   "outputs": [
    {
     "data": {
      "text/html": [
       "<div>\n",
       "<style scoped>\n",
       "    .dataframe tbody tr th:only-of-type {\n",
       "        vertical-align: middle;\n",
       "    }\n",
       "\n",
       "    .dataframe tbody tr th {\n",
       "        vertical-align: top;\n",
       "    }\n",
       "\n",
       "    .dataframe thead th {\n",
       "        text-align: right;\n",
       "    }\n",
       "</style>\n",
       "<table border=\"1\" class=\"dataframe\">\n",
       "  <thead>\n",
       "    <tr style=\"text-align: right;\">\n",
       "      <th></th>\n",
       "      <th>Archivo</th>\n",
       "      <th>CEI10</th>\n",
       "      <th>Antecedente</th>\n",
       "    </tr>\n",
       "  </thead>\n",
       "  <tbody>\n",
       "    <tr>\n",
       "      <th>0</th>\n",
       "      <td>S0004-06142005000500011-1</td>\n",
       "      <td>E11.9</td>\n",
       "      <td>Diabetes Mellitus tipo II</td>\n",
       "    </tr>\n",
       "    <tr>\n",
       "      <th>1</th>\n",
       "      <td>S0004-06142005000500011-1</td>\n",
       "      <td>F10.20</td>\n",
       "      <td>enolismo</td>\n",
       "    </tr>\n",
       "    <tr>\n",
       "      <th>2</th>\n",
       "      <td>S0004-06142005000500011-1</td>\n",
       "      <td>F17.210</td>\n",
       "      <td>fumador</td>\n",
       "    </tr>\n",
       "    <tr>\n",
       "      <th>3</th>\n",
       "      <td>S0004-06142005000500011-1</td>\n",
       "      <td>F17.210</td>\n",
       "      <td>cigarrillos</td>\n",
       "    </tr>\n",
       "    <tr>\n",
       "      <th>4</th>\n",
       "      <td>S0004-06142005000500011-1</td>\n",
       "      <td>C07</td>\n",
       "      <td>carcinoma</td>\n",
       "    </tr>\n",
       "    <tr>\n",
       "      <th>...</th>\n",
       "      <td>...</td>\n",
       "      <td>...</td>\n",
       "      <td>...</td>\n",
       "    </tr>\n",
       "    <tr>\n",
       "      <th>590</th>\n",
       "      <td>S2254-28842014000300010-1</td>\n",
       "      <td>E78.5</td>\n",
       "      <td>dislipemia</td>\n",
       "    </tr>\n",
       "    <tr>\n",
       "      <th>591</th>\n",
       "      <td>S2254-28842014000300010-1</td>\n",
       "      <td>I25.9</td>\n",
       "      <td>cardiopatía isquémica</td>\n",
       "    </tr>\n",
       "    <tr>\n",
       "      <th>592</th>\n",
       "      <td>S2254-28842014000300010-1</td>\n",
       "      <td>I21.3</td>\n",
       "      <td>infarto agudo de miocardio</td>\n",
       "    </tr>\n",
       "    <tr>\n",
       "      <th>594</th>\n",
       "      <td>S2254-28842014000300010-1</td>\n",
       "      <td>N18.9</td>\n",
       "      <td>Insuficiencia renal crónica</td>\n",
       "    </tr>\n",
       "    <tr>\n",
       "      <th>595</th>\n",
       "      <td>S2254-28842014000300010-1</td>\n",
       "      <td>I12.9</td>\n",
       "      <td>nefroangiosclerosis</td>\n",
       "    </tr>\n",
       "  </tbody>\n",
       "</table>\n",
       "<p>481 rows × 3 columns</p>\n",
       "</div>"
      ],
      "text/plain": [
       "                       Archivo    CEI10                  Antecedente\n",
       "0    S0004-06142005000500011-1    E11.9    Diabetes Mellitus tipo II\n",
       "1    S0004-06142005000500011-1   F10.20                     enolismo\n",
       "2    S0004-06142005000500011-1  F17.210                      fumador\n",
       "3    S0004-06142005000500011-1  F17.210                  cigarrillos\n",
       "4    S0004-06142005000500011-1      C07                    carcinoma\n",
       "..                         ...      ...                          ...\n",
       "590  S2254-28842014000300010-1    E78.5                   dislipemia\n",
       "591  S2254-28842014000300010-1    I25.9        cardiopatía isquémica\n",
       "592  S2254-28842014000300010-1    I21.3   infarto agudo de miocardio\n",
       "594  S2254-28842014000300010-1    N18.9  Insuficiencia renal crónica\n",
       "595  S2254-28842014000300010-1    I12.9          nefroangiosclerosis\n",
       "\n",
       "[481 rows x 3 columns]"
      ]
     },
     "execution_count": 9,
     "metadata": {},
     "output_type": "execute_result"
    }
   ],
   "source": [
    "# eliminamos las filas que no tienen CEI10\n",
    "df2 = (pd.read_excel(\"./data/test/Codigos_Test_Encontrados_Con_Antecedente.xlsx\", usecols=['Archivo', 'CEI10', 'Antecedente']))\n",
    "df2 = df2.dropna()\n",
    "df2.to_excel('data/test/Codigos_Test_Encontrados_Con_Antecedente_Final.xlsx')\n",
    "df2"
   ]
  },
  {
   "cell_type": "markdown",
   "metadata": {},
   "source": [
    "Creamos un dataset a partir del archivo de test con los antecedentes y códigos anotados "
   ]
  },
  {
   "cell_type": "code",
   "execution_count": null,
   "metadata": {},
   "outputs": [],
   "source": [
    "# hacemos las modificaciones necesarioas para que coincida con el formato de los encontrados\n",
    "df3 = (pd.read_excel(\"./data/test/Codigos_Test_Anotados_Con_Posicion_Original.xlsx\", usecols=['Archivo', 'CEI10', 'Antecedente']))\n",
    "df3['CEI10'] = df3['CEI10'].str.upper()\n",
    "df3.to_excel('data/test/Codigos_Test_Anotados_Con_Antecedente_Final.xlsx')\n",
    "df3"
   ]
  },
  {
   "cell_type": "markdown",
   "metadata": {},
   "source": [
    "En el archivo [Evaluacion_Anotados_Encontrados.xlsx](./data/test/Evaluacion_Anotados_Encontrados.xlsx) hemos hecho una comparación entre los antecedentes anotados y los encontrados por el modelo."
   ]
  },
  {
   "cell_type": "markdown",
   "metadata": {},
   "source": [
    "Los resultados estan presentes en el archivo anterior pero a modo de resumen podemos destacar lo siguiente:\n",
    "- 606 antecedentes anotados de los cuales 484 encontrados por el modelo\n",
    "- 355 coincidencias exactas\n",
    "- 54 encontrados pero con nombre diferente en el archivo de patterns \n",
    "- 142 que no han sido encontrados por que no existe pattern o el nombre es diferente\n",
    "- 75 encontrados pero que no fueron anotados\n",
    "- 25 que no están entre las existentes en Codigos_CIE-10_Comorbilidades_FUENCOVID por lo que no nos interesan\n",
    "- 30 que deberían haber sido encontrados y el modelo no lo ha hecho"
   ]
  },
  {
   "cell_type": "markdown",
   "metadata": {},
   "source": [
    "Como conclusión podemos indicar que el rendimiento del modelo es el siguiente:\n",
    "- De los 439 antecedentes anotados que el modelo podría haber encontrado lo ha hecho con 409\n",
    "- Por lo que podemos indicar que la precisión del modelo es del 93,1%"
   ]
  }
 ],
 "metadata": {
  "kernelspec": {
   "display_name": "Python 3",
   "language": "python",
   "name": "python3"
  },
  "language_info": {
   "codemirror_mode": {
    "name": "ipython",
    "version": 3
   },
   "file_extension": ".py",
   "mimetype": "text/x-python",
   "name": "python",
   "nbconvert_exporter": "python",
   "pygments_lexer": "ipython3",
   "version": "3.7.6"
  }
 },
 "nbformat": 4,
 "nbformat_minor": 4
}
