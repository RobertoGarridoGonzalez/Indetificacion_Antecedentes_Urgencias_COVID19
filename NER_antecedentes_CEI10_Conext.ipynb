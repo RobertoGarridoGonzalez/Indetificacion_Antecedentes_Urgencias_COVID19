{
 "cells": [
  {
   "cell_type": "code",
   "execution_count": 8,
   "metadata": {},
   "outputs": [],
   "source": [
    "import spacy\n",
    "from spacy.lang.es import Spanish\n",
    "import medspacy\n",
    "from glob import glob\n",
    "from spacy.tokens import Span\n",
    "from medspacy.visualization import visualize_dep, visualize_ent\n",
    "from medspacy.context import ConTextRule, ConTextComponent\n",
    "from medspacy.target_matcher import TargetMatcher, TargetRule"
   ]
  },
  {
   "cell_type": "code",
   "execution_count": 2,
   "metadata": {},
   "outputs": [
    {
     "name": "stderr",
     "output_type": "stream",
     "text": [
      "D:\\Anaconda\\lib\\site-packages\\ipykernel\\ipkernel.py:283: DeprecationWarning: `should_run_async` will not call `transform_cell` automatically in the future. Please pass the result to `transformed_cell` argument and any exception that happen during thetransform in `preprocessing_exc_tuple` in IPython 7.17 and above.\n",
      "  and should_run_async(code)\n"
     ]
    }
   ],
   "source": [
    "import warnings\n",
    "warnings.filterwarnings(\"ignore\", category=DeprecationWarning)"
   ]
  },
  {
   "cell_type": "code",
   "execution_count": 3,
   "metadata": {},
   "outputs": [],
   "source": [
    "nlp = spacy.load(\"es_core_news_md\", disable=[\"ner\"]) #loading a Spanish model"
   ]
  },
  {
   "cell_type": "code",
   "execution_count": 4,
   "metadata": {},
   "outputs": [],
   "source": [
    "target_matcher = TargetMatcher(nlp)\n",
    "Span.set_extension(\"CIE10\", default=\"\", force=True)\n",
    "rules = TargetRule.from_json(\"./data/cie10_rules.jsonl\") # file with Spanish rules\n",
    "target_matcher.add(rules)\n",
    "nlp.add_pipe(target_matcher)"
   ]
  },
  {
   "cell_type": "code",
   "execution_count": null,
   "metadata": {},
   "outputs": [],
   "source": [
    "context_rules = [ \n",
    "\n",
    "    ConTextRule(\"no\", \"NEGATED_EXISTENCE\", direction=\"FORWARD\" ) \n",
    "\n",
    "] "
   ]
  },
  {
   "cell_type": "code",
   "execution_count": 5,
   "metadata": {},
   "outputs": [],
   "source": [
    "context = ConTextComponent(nlp, rules=None)\n",
    "#context = ConTextComponent(nlp, rules=\"default\")\n",
    "context_rules = ConTextRule.from_json(\"./data/context_rules.jsonl\")\n",
    "#print (context_rules)\n",
    "context.add(context_rules)\n",
    "nlp.add_pipe(context)"
   ]
  },
  {
   "cell_type": "code",
   "execution_count": 6,
   "metadata": {},
   "outputs": [
    {
     "data": {
      "text/plain": [
       "['tagger', 'parser', 'target_matcher', 'context']"
      ]
     },
     "execution_count": 6,
     "metadata": {},
     "output_type": "execute_result"
    }
   ],
   "source": [
    "nlp.pipe_names"
   ]
  },
  {
   "cell_type": "code",
   "execution_count": 9,
   "metadata": {},
   "outputs": [
    {
     "name": "stdout",
     "output_type": "stream",
     "text": [
      "['ANTECEDENTES PERSONALES:\\n No RAMc\\n No FRCV\\n Exfumadora desde hace 17 años de algo más de medio paq/día. No hábitos tóxicos.\\n No enfermedades de interés.\\n IQx: Apendicectomía\\n Tto habitual (actualizado a 10/12): BELARA 2 MG/0,03 MG 100, ESPIDIFEN 600 MG 111 a demanda, AERIUS 5MG 100, actualmente Paracetamol/Codeína.AP:\\nNRAMC. \\n Fumadora de 20 cig/día durante 15 años. No hábito enólico. \\n No HTA. No DM. No DL. \\nSeguimiento en Oncología (xxxx) por Carcinoma de mama metacrónico: \\nxxxx: Carcinoma in situ de mama derecha tratado con Tumorectomía + Radioterapia. 2015: CARCINOMA DUCTAL INFILTRANTE, grado I, pT1c, V0, L0, N1mi, (sn, método OSNA), RRHH positivos, cerb2 neg. Ki 67: 15% en paciente premenopausica tratada con Mastectomía con RI + BSGC (6.11.2015). \\nONCOTYPE Dx bajo riesgo.\\nNO PORTADORA DE MUTACIÓN DELETEREA EN NINGUNO DE LOS GENES DE SUSCEPTIBILIDAD AL CANCER DE OVARIO Y MAMA\\nA. PERSONALES:\\nNO alergias medicamentosas conocidas. \\nAsma extrínseca intermitente. Con tratamiento broncodilatador sólo en las crisis.\\nNo HTA ni DM conocidas.\\nSin otros antecedentes patológicos de interés.\\nSIDA.ANTECEDENTES PERSONALES:\\n NAMC. Intolerancia amlodipino por edemas.\\n FRCV: HTA. Hipercolesterolemia. DM tipo 2 en tto con ADOs. DLP en tto farmacologico\\n Valvulopatía\\n Cardiopatía isquémica con ACTPstent en Cx en febrero y mayo de 2009. Vasoespasmo en CD ostial durante el procedimiento. En seguimiento por Cardiología(última revisión en abril 2016, describen ECOCARDIO normal, ECOCARDIO de esfuerzo negativo. Presenta dolores centrotorácicos frecuentes, que ceden con reposo. \\n Tratamiento habitual: \\nValsartan 80mg, Atorvastatina 80mg, omeprazol, Barnix 20mg cena, Tromalyt 150mg, Nitrodur 5mg. Bisoprolol 2,5 mg. desayuno.jardiance 10 mg en desayuno, sitagliptina 10 mg en cena Antecedentes personales:\\n No RAMC\\n FRCV: hipercolesterolemia. No DM. No HTA.\\n Hipotiroidismo\\n Estudiada en NRL: \\n En 20042005 por cefalea mixta (migraña + tensional) + vertigo posicional benigno. TAC cerebral(septiembre.2004)NORMAL. Mala tolerancia a Sibelium\\n En 2010 por síncopes miccionales de repetición: \\nTC cerebral (05082011): Retracción encefálica difusa leve\\n Lesión de CPE derecho postIQ (prótesis de rodilla) con recuperación incompleta\\n Espondilartrosis lumbar. Escoliosis de convexidad izquierda. Múltiples hernias discales (L23, L34 y L5S1)\\n Periartritis escápulohumeral\\n Fibromialgia (dada de alta por UDC 2016)\\n Pancreatitis litiásica en 2007\\n Cx: PTR derecha, Herniorrafia derecha, Apendicectomizada, Histerectomizada + doble anexectomía, prolapso vesical\\n Trastorno del ánimo de varios años de evoluciónANTECEDENTES PERSONALES:\\n Niega reacciones alérgicas medicamentosas conocidas. Se realizó pruebas en otro centro para las penicilinas, siendo negativa.\\n Exfumadora de 20 cig/día desde hace 3 años. No bebedora de alcohol.\\n Hipertensión arterial en tratamiento farmacológico.\\n EPOC diagnosticado en un centro privado.\\n Migrañas. \\n Oxigeno domiciliario previo\\n Situación basal: IABVD. Vive con su esposo y su hija.']\n"
     ]
    }
   ],
   "source": [
    "inf_nuevos = glob(\"./data/informes/*.txt\")\n",
    "\n",
    "with open(\"./data/informes_nuevos.txt\", \"w\", encoding=\"utf-8\") as ant_per_inf:\n",
    "    for ap_infor in inf_nuevos:\n",
    "        with open(ap_infor, \"r\", encoding=\"utf-8\") as ap:\n",
    "            ants_per = ap.read().split(\"\\n\\n\")[1:2]\n",
    "            for ant_per in ants_per:\n",
    "                ant_per_inf.write(ant_per)\n",
    "\n",
    "informe_urgencias = []\n",
    "with open (\"./data/informes_nuevos.txt\", \"r\", encoding=\"utf-8\") as f:\n",
    "    informes_urgencias = f.read().split(\"\\n\\n\")\n",
    "    for informe in informes_urgencias:\n",
    "        informe = informe.replace(\"-\", \"\")\n",
    "        informe = informe.replace(\"*\", \"\")\n",
    "        #informe = informe.replace(\"\\n\", \"\")\n",
    "        #informe = informe.lower()\n",
    "        #informe = informe.replace(\"antecedentes personales:\", \"\")\n",
    "        #informe = informe.replace(\"ap:\", \"\")\n",
    "        #informe = informe.replace(\"a. personales:\", \"\")\n",
    "        informe = informe.strip()\n",
    "        informe_urgencias.append(informe)\n",
    "informes_urgencias = str(informe_urgencias)    \n",
    "print (informe_urgencias)  "
   ]
  },
  {
   "cell_type": "code",
   "execution_count": null,
   "metadata": {},
   "outputs": [],
   "source": [
    "text = \"No HTA desde hace 5 años. No DM y si asma. Cirrosis grave. Oxigeno domiciliario previo\""
   ]
  },
  {
   "cell_type": "code",
   "execution_count": 12,
   "metadata": {},
   "outputs": [
    {
     "name": "stdout",
     "output_type": "stream",
     "text": [
      "Número de antecedentes encontrados: 10\n",
      "\n",
      "[['Fumadora', 'F17.210'], ['Carcinoma', 'C07'], ['Carcinoma', 'C07'], ['CARCINOMA DUCTAL INFILTRANTE', 'C50.9'], ['HTA', 'I10'], ['DM', 'E11.9'], ['HTA', 'I10'], ['DM tipo 2', 'E11.9'], ['Cardiopatía isquémica', 'I25.9'], ['Exfumadora', 'Z87.891']]\n"
     ]
    }
   ],
   "source": [
    "doc = nlp(informes_urgencias)\n",
    "ante_encontrados = [[ent.text, ent._.CIE10] for ent in doc.ents if ent._.is_negated == False]\n",
    "print (f\"Número de antecedentes encontrados: {len(ante_encontrados)}\\n\")\n",
    "print (ante_encontrados) "
   ]
  },
  {
   "cell_type": "code",
   "execution_count": null,
   "metadata": {},
   "outputs": [],
   "source": [
    "tipe"
   ]
  },
  {
   "cell_type": "code",
   "execution_count": null,
   "metadata": {},
   "outputs": [],
   "source": [
    "doc = nlp(text)\n",
    "for ent in doc.ents:\n",
    "    if ent._.is_negated == False:\n",
    "        ante_encontrados2 = [ent.text, ent._.CIE10]\n",
    "ante_encontrados2"
   ]
  },
  {
   "cell_type": "markdown",
   "metadata": {},
   "source": [
    "In addition to linking targets and modifiers, ConText will also set attributes for each entity:"
   ]
  },
  {
   "cell_type": "code",
   "execution_count": null,
   "metadata": {},
   "outputs": [],
   "source": [
    "doc = nlp(text)\n",
    "for ent in doc.ents:\n",
    "    if any([ent._.is_negated, ent._.is_uncertain, ent._.is_historical, ent._.is_family, ent._.is_hypothetical, ]):\n",
    "        print(\"'{0}' modified by {1} in: '{2}'\".format(ent, ent._.modifiers, ent.sent))"
   ]
  },
  {
   "cell_type": "code",
   "execution_count": null,
   "metadata": {},
   "outputs": [],
   "source": []
  }
 ],
 "metadata": {
  "kernelspec": {
   "display_name": "Python 3",
   "language": "python",
   "name": "python3"
  },
  "language_info": {
   "codemirror_mode": {
    "name": "ipython",
    "version": 3
   },
   "file_extension": ".py",
   "mimetype": "text/x-python",
   "name": "python",
   "nbconvert_exporter": "python",
   "pygments_lexer": "ipython3",
   "version": "3.7.6"
  }
 },
 "nbformat": 4,
 "nbformat_minor": 4
}
