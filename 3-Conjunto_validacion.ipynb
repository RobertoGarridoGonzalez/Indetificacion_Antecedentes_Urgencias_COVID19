{
 "cells": [
  {
   "cell_type": "markdown",
   "metadata": {},
   "source": [
    "### En este notebook utilizaremos el conjunto de validación para afinar el modelo"
   ]
  },
  {
   "cell_type": "code",
   "execution_count": 1,
   "metadata": {},
   "outputs": [],
   "source": [
    "import json\n",
    "from glob import glob\n",
    "import spacy\n",
    "from spacy.lang.es import Spanish\n",
    "from spacy.matcher import PhraseMatcher\n",
    "from spacy.tokens import Span\n",
    "from spacy import displacy\n",
    "from medspacy.target_matcher import TargetMatcher, TargetRule"
   ]
  },
  {
   "cell_type": "code",
   "execution_count": 2,
   "metadata": {},
   "outputs": [],
   "source": [
    "import warnings\n",
    "warnings.filterwarnings(\"ignore\", category=DeprecationWarning)\n",
    "warnings.filterwarnings(\"ignore\", category=ResourceWarning)"
   ]
  },
  {
   "cell_type": "markdown",
   "metadata": {},
   "source": [
    "Vemos que tal funciona el modelo en el set de Validación"
   ]
  },
  {
   "cell_type": "code",
   "execution_count": 3,
   "metadata": {},
   "outputs": [],
   "source": [
    "read_files = glob(\"./data/dev/text_files/*.txt\")\n",
    "             \n",
    "with open(\"./data/dev/allfiles_dev.txt\", \"w\", encoding=\"utf-8\" ) as outfile:\n",
    "    for f in read_files:\n",
    "        with open(f, \"r\", encoding=\"utf-8\") as infile:\n",
    "            txt = \"{}\\n{}\".format(f, infile.read())\n",
    "            txt = txt.replace(\"./data/dev/text_files\\\\\", \"\")\n",
    "            outfile.write(txt + \"\\n\")"
   ]
  },
  {
   "cell_type": "code",
   "execution_count": 4,
   "metadata": {},
   "outputs": [],
   "source": [
    "with open (\"./data/dev/allfiles_dev.txt\", \"r\", encoding=\"utf-8\") as f:\n",
    "    archivos_val = f.read()#.split(\"\\n\")\n",
    "#archivos_val = str(archivos_val) # Lo transformamos en una cadena\n",
    "#print (archivos_val) "
   ]
  },
  {
   "cell_type": "markdown",
   "metadata": {},
   "source": [
    "Cargamos el modelo entrenado"
   ]
  },
  {
   "cell_type": "code",
   "execution_count": 5,
   "metadata": {},
   "outputs": [
    {
     "data": {
      "text/plain": [
       "['tagger', 'parser', 'entity_ruler', 'ner']"
      ]
     },
     "execution_count": 5,
     "metadata": {},
     "output_type": "execute_result"
    }
   ],
   "source": [
    "nlp = spacy.load(\"./models/model_antecedentes_ner_es_md\")\n",
    "nlp.pipe_names"
   ]
  },
  {
   "cell_type": "code",
   "execution_count": 6,
   "metadata": {},
   "outputs": [
    {
     "data": {
      "text/plain": [
       "['tagger', 'parser', 'entity_ruler', 'ner', 'target_matcher']"
      ]
     },
     "execution_count": 6,
     "metadata": {},
     "output_type": "execute_result"
    }
   ],
   "source": [
    "target_matcher = TargetMatcher(nlp)\n",
    "Span.set_extension(\"CIE10\", default=\"\", force=True)\n",
    "rules = TargetRule.from_json(\"./data/cie10_rules.jsonl\")\n",
    "target_matcher.add(rules)\n",
    "nlp.add_pipe(target_matcher)\n",
    "nlp.pipe_names"
   ]
  },
  {
   "cell_type": "code",
   "execution_count": 7,
   "metadata": {},
   "outputs": [
    {
     "name": "stdout",
     "output_type": "stream",
     "text": [
      "Número de antecedentes encontrados: 529\n",
      "\n"
     ]
    }
   ],
   "source": [
    "nuevo_informe = nlp(archivos_val)\n",
    "ante_encontrados = [[ent.text, ent._.CIE10] for ent in nuevo_informe.ents]\n",
    "\n",
    "print (f\"Número de antecedentes encontrados: {len(ante_encontrados)}\\n\")\n",
    "\n",
    "# Visualizamos los antecedentes encontrados en el informe\n",
    "#colors = {\"ANTEC\": \"linear-gradient(90deg, #aa9cfc, #fc9ce7)\"}\n",
    "#options = {\"ents\": [\"ANTEC\"], \"colors\": colors}\n",
    "#displacy.render(nuevo_informe, style=\"ent\", options=options)\n",
    "\n",
    "# Guardamos los antecedentes en un archivo\n",
    "#with open ('data/antecedentes_urgencias_Ner_Matcher_2_ES_MD.jsonl', \"w\", encoding=\"utf-8\") as f:\n",
    "    #json.dump(ante_encontrados, f, indent=1)"
   ]
  },
  {
   "cell_type": "markdown",
   "metadata": {},
   "source": [
    "Vamos a ver como se comporta el modelo desabilitando componentes y así elegir la mejor combinación"
   ]
  },
  {
   "cell_type": "code",
   "execution_count": 8,
   "metadata": {},
   "outputs": [
    {
     "data": {
      "text/plain": [
       "['tagger', 'parser', 'ner', 'target_matcher']"
      ]
     },
     "execution_count": 8,
     "metadata": {},
     "output_type": "execute_result"
    }
   ],
   "source": [
    "nlp.disable_pipes('entity_ruler')\n",
    "nlp.pipe_names"
   ]
  },
  {
   "cell_type": "code",
   "execution_count": 9,
   "metadata": {},
   "outputs": [
    {
     "name": "stdout",
     "output_type": "stream",
     "text": [
      "Número de antecedentes encontrados: 529\n",
      "\n"
     ]
    }
   ],
   "source": [
    "nuevo_informe = nlp(archivos_val)\n",
    "ante_encontrados = [[ent.text, ent._.CIE10] for ent in nuevo_informe.ents]\n",
    "\n",
    "print (f\"Número de antecedentes encontrados: {len(ante_encontrados)}\\n\")"
   ]
  },
  {
   "cell_type": "code",
   "execution_count": 10,
   "metadata": {},
   "outputs": [
    {
     "data": {
      "text/plain": [
       "['tagger', 'parser', 'ner']"
      ]
     },
     "execution_count": 10,
     "metadata": {},
     "output_type": "execute_result"
    }
   ],
   "source": [
    "nlp.disable_pipes('target_matcher')\n",
    "nlp.pipe_names"
   ]
  },
  {
   "cell_type": "code",
   "execution_count": 11,
   "metadata": {},
   "outputs": [
    {
     "name": "stdout",
     "output_type": "stream",
     "text": [
      "Número de antecedentes encontrados: 509\n",
      "\n"
     ]
    }
   ],
   "source": [
    "nuevo_informe = nlp(archivos_val)\n",
    "ante_encontrados = [[ent.text, ent._.CIE10] for ent in nuevo_informe.ents]\n",
    "\n",
    "print (f\"Número de antecedentes encontrados: {len(ante_encontrados)}\\n\")"
   ]
  },
  {
   "cell_type": "code",
   "execution_count": 12,
   "metadata": {},
   "outputs": [
    {
     "data": {
      "text/plain": [
       "['tagger', 'parser', 'entity_ruler', 'ner']"
      ]
     },
     "execution_count": 12,
     "metadata": {},
     "output_type": "execute_result"
    }
   ],
   "source": [
    "nlp = spacy.load(\"./models/model_antecedentes_ner_es_md\")\n",
    "nlp.pipe_names"
   ]
  },
  {
   "cell_type": "code",
   "execution_count": 13,
   "metadata": {},
   "outputs": [
    {
     "data": {
      "text/plain": [
       "['tagger', 'parser', 'entity_ruler', 'ner', 'target_matcher']"
      ]
     },
     "execution_count": 13,
     "metadata": {},
     "output_type": "execute_result"
    }
   ],
   "source": [
    "target_matcher = TargetMatcher(nlp)\n",
    "Span.set_extension(\"CIE10\", default=\"\", force=True)\n",
    "rules = TargetRule.from_json(\"./data/cie10_rules.jsonl\")\n",
    "target_matcher.add(rules)\n",
    "nlp.add_pipe(target_matcher)\n",
    "nlp.pipe_names"
   ]
  },
  {
   "cell_type": "code",
   "execution_count": 14,
   "metadata": {},
   "outputs": [
    {
     "data": {
      "text/plain": [
       "['tagger', 'parser', 'entity_ruler', 'target_matcher']"
      ]
     },
     "execution_count": 14,
     "metadata": {},
     "output_type": "execute_result"
    }
   ],
   "source": [
    "nlp.disable_pipes('ner')\n",
    "nlp.pipe_names"
   ]
  },
  {
   "cell_type": "code",
   "execution_count": 15,
   "metadata": {},
   "outputs": [
    {
     "name": "stdout",
     "output_type": "stream",
     "text": [
      "Número de antecedentes encontrados: 440\n",
      "\n"
     ]
    }
   ],
   "source": [
    "nuevo_informe = nlp(archivos_val)\n",
    "ante_encontrados = [[ent.text, ent._.CIE10] for ent in nuevo_informe.ents]\n",
    "\n",
    "print (f\"Número de antecedentes encontrados: {len(ante_encontrados)}\\n\")"
   ]
  },
  {
   "cell_type": "markdown",
   "metadata": {},
   "source": [
    "El mejor resultado se obtiene sin desabilitar ningún componente"
   ]
  }
 ],
 "metadata": {
  "kernelspec": {
   "display_name": "Python 3",
   "language": "python",
   "name": "python3"
  },
  "language_info": {
   "codemirror_mode": {
    "name": "ipython",
    "version": 3
   },
   "file_extension": ".py",
   "mimetype": "text/x-python",
   "name": "python",
   "nbconvert_exporter": "python",
   "pygments_lexer": "ipython3",
   "version": "3.7.6"
  }
 },
 "nbformat": 4,
 "nbformat_minor": 4
}
