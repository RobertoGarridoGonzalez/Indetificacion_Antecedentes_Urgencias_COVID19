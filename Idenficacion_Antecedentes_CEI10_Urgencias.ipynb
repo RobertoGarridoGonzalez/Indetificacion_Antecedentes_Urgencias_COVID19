{
 "cells": [
  {
   "cell_type": "markdown",
   "metadata": {},
   "source": [
    "### Reconocimiento de enfermedades previas en informes de urgencias y su mapeado con el correspondiente código CIE10"
   ]
  },
  {
   "cell_type": "markdown",
   "metadata": {},
   "source": [
    "Vamos a utilizar nuestro modelo aplicándolo a informes de urgencias reales"
   ]
  },
  {
   "cell_type": "code",
   "execution_count": 1,
   "metadata": {},
   "outputs": [],
   "source": [
    "import json\n",
    "from glob import glob\n",
    "import spacy\n",
    "import pandas as pd\n",
    "from spacy.matcher import PhraseMatcher\n",
    "from spacy.tokens import Span\n",
    "from spacy import displacy\n",
    "from medspacy.target_matcher import TargetMatcher, TargetRule\n",
    "from medspacy.context import ConTextRule, ConTextComponent"
   ]
  },
  {
   "cell_type": "code",
   "execution_count": 2,
   "metadata": {},
   "outputs": [
    {
     "name": "stderr",
     "output_type": "stream",
     "text": [
      "D:\\Anaconda\\lib\\site-packages\\ipykernel\\ipkernel.py:283: DeprecationWarning: `should_run_async` will not call `transform_cell` automatically in the future. Please pass the result to `transformed_cell` argument and any exception that happen during thetransform in `preprocessing_exc_tuple` in IPython 7.17 and above.\n",
      "  and should_run_async(code)\n"
     ]
    }
   ],
   "source": [
    "import warnings\n",
    "warnings.filterwarnings(\"ignore\", category=DeprecationWarning)"
   ]
  },
  {
   "cell_type": "markdown",
   "metadata": {},
   "source": [
    "Cargamos el modelo entrenado"
   ]
  },
  {
   "cell_type": "code",
   "execution_count": 3,
   "metadata": {},
   "outputs": [],
   "source": [
    "nlp = spacy.load(\"./models/model_antecedentes_ner_es_md\")"
   ]
  },
  {
   "cell_type": "markdown",
   "metadata": {},
   "source": [
    "Añadimos al modelo el componente que añade los códigos CEI10 a los antecedentes que encuentre"
   ]
  },
  {
   "cell_type": "code",
   "execution_count": 4,
   "metadata": {},
   "outputs": [
    {
     "data": {
      "text/plain": [
       "['tagger', 'parser', 'entity_ruler', 'ner', 'target_matcher']"
      ]
     },
     "execution_count": 4,
     "metadata": {},
     "output_type": "execute_result"
    }
   ],
   "source": [
    "target_matcher = TargetMatcher(nlp)\n",
    "Span.set_extension(\"CIE10\", default=\"\", force=True)\n",
    "rules = TargetRule.from_json(\"./data/cie10_rules_mspacy.jsonl\")\n",
    "target_matcher.add(rules)\n",
    "nlp.add_pipe(target_matcher)\n",
    "nlp.pipe_names"
   ]
  },
  {
   "cell_type": "markdown",
   "metadata": {},
   "source": [
    "En los textos clínicos muchas veces hay menciones a conceptos que en este momento el paciente no padece.\n",
    "Eliminamos los antecedentes de negación con las reglas presentes en el archivo context_rules.jsonl"
   ]
  },
  {
   "cell_type": "code",
   "execution_count": 5,
   "metadata": {},
   "outputs": [
    {
     "data": {
      "text/plain": [
       "['tagger', 'parser', 'entity_ruler', 'ner', 'target_matcher', 'context']"
      ]
     },
     "execution_count": 5,
     "metadata": {},
     "output_type": "execute_result"
    }
   ],
   "source": [
    "context = ConTextComponent(nlp, rules=None)\n",
    "context_rules = ConTextRule.from_json(\"./data/context_rules.jsonl\")\n",
    "context.add(context_rules)\n",
    "nlp.add_pipe(context)\n",
    "nlp.pipe_names"
   ]
  },
  {
   "cell_type": "markdown",
   "metadata": {},
   "source": [
    "Vemos que tal funciona el modelo con nuevos informes de urgencias"
   ]
  },
  {
   "cell_type": "code",
   "execution_count": 6,
   "metadata": {},
   "outputs": [],
   "source": [
    "# directorio dónde están cada uno de los txt que contienen un informe de urgencias\n",
    "inf_nuevos = glob(\"./data/informes/*.txt\")\n",
    "\n",
    "# generamos un archivo json que contine el nombre de cada archivo con los antedentes y sus códigos encontrados por el modelo\n",
    "with open(\"data/antecedentes_informes_urgencias.jsonl\", \"w\", encoding=\"utf-8\" ) as outfile: \n",
    "    archivo_antec=[]\n",
    "    for f in inf_nuevos:\n",
    "        with open(f, \"r\", encoding=\"utf-8\") as infile:\n",
    "            nombre_archivo = f\n",
    "            nombre_archivo = nombre_archivo.replace(\"./data/informes\\\\\", \"\")\n",
    "            nombre_archivo = nombre_archivo.replace(\".txt\", \"\")\n",
    "            text = infile.read()            \n",
    "            #print (text)\n",
    "            nuevo_informe = nlp(text)\n",
    "            ante_encontrados = nombre_archivo, [[ent._.CIE10, ent.text] for ent in nuevo_informe.ents if ent._.is_negated == False]\n",
    "            archivo_antec.append(ante_encontrados)\n",
    "            json.dump(ante_encontrados, outfile, indent=1)"
   ]
  },
  {
   "cell_type": "code",
   "execution_count": 7,
   "metadata": {},
   "outputs": [],
   "source": [
    "antec_encontrados = [[archivo, *antec] for archivo, lista in archivo_antec for antec in lista]"
   ]
  },
  {
   "cell_type": "code",
   "execution_count": 9,
   "metadata": {},
   "outputs": [],
   "source": [
    "df = pd.DataFrame(antec_encontrados)\n",
    "df.columns = [\"Archivo\", \"CEI10\", \"Antecedente\"]\n",
    "# lo guardamos en un archivo excel\n",
    "df.to_excel('data/Antecedentes_CEI10_Encontrados_Informes_Urgencias_Con_Negacion.xlsx')"
   ]
  },
  {
   "cell_type": "code",
   "execution_count": 10,
   "metadata": {},
   "outputs": [
    {
     "name": "stdout",
     "output_type": "stream",
     "text": [
      "Número de antecedentes encontrados: 15\n",
      "\n",
      "Antecedentes en el informe de urgencias: [['inf2', 'F17.210', 'Fumadora'], ['inf2', 'C07', 'Carcinoma'], ['inf2', 'C07', 'Carcinoma'], ['inf2', 'C50.9', 'CARCINOMA DUCTAL INFILTRANTE'], ['inf2', 'I82.409', 'TVP'], ['inf3', 'J45.909', 'Asma extrínseca'], ['inf3', 'Z87.891', 'Exfumadora'], ['inf4', 'I10', 'HTA'], ['inf4', 'E11.9', 'DM tipo 2'], ['inf4', 'I25.9', 'Cardiopatía isquémica'], ['inf5', '', 'prolapso vesical'], ['inf6', 'Z87.891', 'Ex-fumadora'], ['inf6', 'I10', 'Hipertensión arterial'], ['inf6', 'J44.9', 'EPOC'], ['inf6', 'Z99.81', 'Oxigeno domiciliario previo']]\n",
      "\n"
     ]
    }
   ],
   "source": [
    "print (f\"Número de antecedentes encontrados: {len(antec_encontrados)}\\n\")\n",
    "print (f\"Antecedentes en el informe de urgencias: {antec_encontrados}\\n\")"
   ]
  },
  {
   "cell_type": "code",
   "execution_count": null,
   "metadata": {},
   "outputs": [],
   "source": []
  }
 ],
 "metadata": {
  "kernelspec": {
   "display_name": "Python 3",
   "language": "python",
   "name": "python3"
  },
  "language_info": {
   "codemirror_mode": {
    "name": "ipython",
    "version": 3
   },
   "file_extension": ".py",
   "mimetype": "text/x-python",
   "name": "python",
   "nbconvert_exporter": "python",
   "pygments_lexer": "ipython3",
   "version": "3.7.6"
  }
 },
 "nbformat": 4,
 "nbformat_minor": 4
}
